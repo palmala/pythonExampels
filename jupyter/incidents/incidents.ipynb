{
 "cells": [
  {
   "cell_type": "code",
   "execution_count": null,
   "id": "acb08039",
   "metadata": {},
   "outputs": [],
   "source": [
    "import pandas as pd\n",
    "import matplotlib.pyplot as plt\n",
    "%matplotlib inline\n",
    "\n",
    "df = pd.read_csv('incidents.csv')\n",
    "df.head()"
   ]
  },
  {
   "cell_type": "code",
   "execution_count": null,
   "id": "2ba5d7e3",
   "metadata": {},
   "outputs": [],
   "source": []
  },
  {
   "cell_type": "markdown",
   "id": "7a7603e5",
   "metadata": {},
   "source": [
    "Let's draw a line chart of all incidents per months (ignoring country and categories)!"
   ]
  },
  {
   "cell_type": "code",
   "execution_count": null,
   "id": "d41c4306",
   "metadata": {},
   "outputs": [],
   "source": []
  },
  {
   "cell_type": "markdown",
   "id": "0ca0a0ab",
   "metadata": {},
   "source": [
    "Let's draw a stacked bar chart for all incidents in a month in a country!"
   ]
  },
  {
   "cell_type": "code",
   "execution_count": null,
   "id": "2a665fd6",
   "metadata": {},
   "outputs": [],
   "source": []
  },
  {
   "cell_type": "markdown",
   "id": "d32b81fa",
   "metadata": {},
   "source": [
    "Let's draw simple separate line charts for each country with all incidents per months! We have 5 countries available, so we need to elegantly generate 5 line plots, one for each country!"
   ]
  },
  {
   "cell_type": "code",
   "execution_count": null,
   "id": "cee7d19c",
   "metadata": {},
   "outputs": [],
   "source": []
  }
 ],
 "metadata": {
  "kernelspec": {
   "display_name": "Python 3 (ipykernel)",
   "language": "python",
   "name": "python3"
  },
  "language_info": {
   "codemirror_mode": {
    "name": "ipython",
    "version": 3
   },
   "file_extension": ".py",
   "mimetype": "text/x-python",
   "name": "python",
   "nbconvert_exporter": "python",
   "pygments_lexer": "ipython3",
   "version": "3.10.10"
  }
 },
 "nbformat": 4,
 "nbformat_minor": 5
}
