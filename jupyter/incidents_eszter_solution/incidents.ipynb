{
 "cells": [
  {
   "cell_type": "code",
   "execution_count": null,
   "id": "5229e136",
   "metadata": {},
   "outputs": [],
   "source": [
    "import pandas as pd\n",
    "import matplotlib.pyplot as plt\n",
    "import numpy as np\n",
    "%matplotlib inline"
   ]
  },
  {
   "cell_type": "code",
   "execution_count": null,
   "id": "42d0d7e4",
   "metadata": {},
   "outputs": [],
   "source": [
    "df = pd.read_csv('../incidents/incidents.csv')\n",
    "df.head()\n"
   ]
  },
  {
   "cell_type": "markdown",
   "id": "150eed46",
   "metadata": {},
   "source": [
    "# LINE CHART"
   ]
  },
  {
   "cell_type": "markdown",
   "id": "6eeb1d66",
   "metadata": {},
   "source": [
    "Let's draw a line chart of all incidents per months (ignoring country and categories)!"
   ]
  },
  {
   "cell_type": "code",
   "execution_count": null,
   "id": "80fb9b83",
   "metadata": {},
   "outputs": [],
   "source": [
    "def sort_by_date(df, date_column_name=\"DATE\"):\n",
    "    df[date_column_name] = pd.to_datetime(df[date_column_name])\n",
    "    df.sort_values(by=date_column_name, inplace=True)\n",
    "    return df\n",
    "\n",
    "\n",
    "def fill_missing_dates(df, start_date, end_date):\n",
    "    date_indices = pd.date_range(start=start_date, end=end_date, freq=\"MS\")\n",
    "    df = df.reindex(date_indices, fill_value=0)\n",
    "    return df\n",
    "\n",
    "\n",
    "def get_incidents_per_month(df):\n",
    "    df = sort_by_date(df, date_column_name=\"DATE\")\n",
    "    incidents_per_months = df.groupby(\"DATE\", as_index=False).count()\n",
    "    incidents_per_months.rename(columns={\"INCIDENT_ID\":\"num_of_incidents\"}, inplace=True)\n",
    "    incidents_per_months = incidents_per_months[[\"DATE\", \"num_of_incidents\"]]\n",
    "    incidents_per_months.index = incidents_per_months[\"DATE\"]\n",
    "    \n",
    "    filled_incs_per_months = fill_missing_dates(incidents_per_months, \n",
    "                                                incidents_per_months.DATE.iloc[0],\n",
    "                                                incidents_per_months.DATE.iloc[-1])\n",
    "    filled_incs_per_months.index = filled_incs_per_months.index.format(formatter=lambda x: x.strftime(\"%Y-%m\"))\n",
    "    filled_incs_per_months = filled_incs_per_months.drop(columns = [\"DATE\"])\n",
    "    return filled_incs_per_months\n",
    "\n",
    "\n",
    "def draw_line_chart_of_monthly_incidents(df):\n",
    "    incidents_per_months = get_incidents_per_month(df)\n",
    "    \n",
    "    plt.figure()\n",
    "    plt.plot(incidents_per_months.index, incidents_per_months[\"num_of_incidents\"], label=\"Number of incidents\")\n",
    "    plt.legend()\n",
    "    plt.title('Number of incidents per months')\n",
    "    plt.xticks(incidents_per_months.index, rotation=90)\n",
    "    plt.show()\n",
    "    \n",
    "\n",
    "df_to_line_chart = df\n",
    "draw_line_chart_of_monthly_incidents(df_to_line_chart)"
   ]
  },
  {
   "cell_type": "markdown",
   "id": "f844a2ec",
   "metadata": {},
   "source": [
    "# STACKED CHART"
   ]
  },
  {
   "cell_type": "markdown",
   "id": "d55fd254",
   "metadata": {},
   "source": [
    "Let's draw a stacked bar chart for all incidents in a month in a country!"
   ]
  },
  {
   "cell_type": "code",
   "execution_count": null,
   "id": "82351708",
   "metadata": {},
   "outputs": [],
   "source": [
    "def group_df_by_date_and_countries(df):\n",
    "    df = sort_by_date(df)\n",
    "    grouped_df = df.groupby([\"DATE\", \"COUNTRY\"]).size().unstack()\n",
    "    return grouped_df\n",
    "    \n",
    "    \n",
    "def draw_stacked_chart_of_incidents_by_countires(df):\n",
    "    df = sort_by_date(df)\n",
    "    grouped_df = df.groupby([\"DATE\", \"COUNTRY\"]).size().unstack()    \n",
    "    grouped_df.fillna(0, inplace=True)\n",
    "    grouped_df = fill_missing_dates(grouped_df, \n",
    "                                   grouped_df.index[0],\n",
    "                                   grouped_df.index[-1])\n",
    "    grouped_df.index = grouped_df.index.format(formatter=lambda x: x.strftime('%Y-%m'))\n",
    "    grouped_df.plot(kind=\"bar\", stacked=True)\n",
    "    plt.title(\"Number of incidents by countries\")\n",
    "    plt.legend(loc=\"center left\", bbox_to_anchor=(1.0, 0.5))\n",
    "    return grouped_df\n",
    "\n",
    "\n",
    "df_to_stack_chart = df\n",
    "draw_stacked_chart_of_incidents_by_countires(df_to_stack_chart)"
   ]
  },
  {
   "cell_type": "markdown",
   "id": "8a48b24c",
   "metadata": {},
   "source": [
    "# LINE CHART v2"
   ]
  },
  {
   "cell_type": "markdown",
   "id": "c366ac87",
   "metadata": {},
   "source": [
    "Let's draw simple separate line charts for each country with all incidents per months! We have 5 countries available, so we need to elegantly generate 5 line plots, one for each country!"
   ]
  },
  {
   "cell_type": "code",
   "execution_count": null,
   "id": "e39a1f65",
   "metadata": {},
   "outputs": [],
   "source": [
    "def draw_line_chart_of_incidents_by_countries(df):\n",
    "    grouped_df = group_df_by_date_and_countries(df)\n",
    "    grouped_df.fillna(0, inplace=True)\n",
    "    grouped_df = fill_missing_dates(grouped_df, \n",
    "                                   grouped_df.index[0],\n",
    "                                   grouped_df.index[-1])\n",
    "    grouped_df.index = grouped_df.index.format(formatter=lambda x: x.strftime('%Y-%m'))\n",
    "    \n",
    "    for country in grouped_df:\n",
    "        plt.plot(grouped_df.index, grouped_df[country], label=\"number of incidents\")\n",
    "        plt.xticks(grouped_df.index, rotation=90)\n",
    "        plt.title(f\"Number of incidents in {country}\")\n",
    "        plt.legend(loc=\"center left\", bbox_to_anchor=(1.0, 0.5))\n",
    "        plt.show()\n",
    "        \n",
    "\n",
    "df_to_line_chart_by_countries = df\n",
    "draw_line_chart_of_incidents_by_countries(df)"
   ]
  }
 ],
 "metadata": {
  "kernelspec": {
   "display_name": "Python 3 (ipykernel)",
   "language": "python",
   "name": "python3"
  },
  "language_info": {
   "codemirror_mode": {
    "name": "ipython",
    "version": 3
   },
   "file_extension": ".py",
   "mimetype": "text/x-python",
   "name": "python",
   "nbconvert_exporter": "python",
   "pygments_lexer": "ipython3",
   "version": "3.10.10"
  }
 },
 "nbformat": 4,
 "nbformat_minor": 5
}
